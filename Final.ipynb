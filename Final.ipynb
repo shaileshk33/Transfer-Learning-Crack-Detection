{
  "nbformat": 4,
  "nbformat_minor": 0,
  "metadata": {
    "colab": {
      "name": "Final JBM v2.ipynb",
      "version": "0.3.2",
      "provenance": [],
      "collapsed_sections": [],
      "toc_visible": true,
      "include_colab_link": true
    },
    "kernelspec": {
      "name": "python3",
      "display_name": "Python 3"
    }
  },
  "cells": [
    {
      "cell_type": "markdown",
      "metadata": {
        "id": "view-in-github",
        "colab_type": "text"
      },
      "source": [
        "<a href=\"https://colab.research.google.com/github/ravijp/JBMClassification/blob/master/Final_JBM_v2.ipynb\" target=\"_parent\"><img src=\"https://colab.research.google.com/assets/colab-badge.svg\" alt=\"Open In Colab\"/></a>"
      ]
    },
    {
      "metadata": {
        "id": "zMId1expNbVL",
        "colab_type": "text"
      },
      "cell_type": "markdown",
      "source": [
        "### Get files from Github"
      ]
    },
    {
      "metadata": {
        "id": "2Yb60BYmNhmz",
        "colab_type": "code",
        "colab": {
          "base_uri": "https://localhost:8080/",
          "height": 139
        },
        "outputId": "245613c5-114b-45d6-c88e-85fc9ecb156f"
      },
      "cell_type": "code",
      "source": [
        "!git clone https://github.com/ravijp/JBMClassification.git"
      ],
      "execution_count": 1,
      "outputs": [
        {
          "output_type": "stream",
          "text": [
            "Cloning into 'JBMClassification'...\n",
            "remote: Enumerating objects: 254, done.\u001b[K\n",
            "remote: Counting objects: 100% (254/254), done.\u001b[K\n",
            "remote: Compressing objects: 100% (254/254), done.\u001b[K\n",
            "remote: Total 254 (delta 0), reused 254 (delta 0), pack-reused 0\u001b[K\n",
            "Receiving objects: 100% (254/254), 770.72 MiB | 41.39 MiB/s, done.\n",
            "Checking out files: 100% (250/250), done.\n"
          ],
          "name": "stdout"
        }
      ]
    },
    {
      "metadata": {
        "id": "BU-3-KX-NjGV",
        "colab_type": "text"
      },
      "cell_type": "markdown",
      "source": [
        "### Import necessary modules "
      ]
    },
    {
      "metadata": {
        "id": "eANA-IpnDFTh",
        "colab_type": "code",
        "colab": {}
      },
      "cell_type": "code",
      "source": [
        ""
      ],
      "execution_count": 0,
      "outputs": []
    },
    {
      "metadata": {
        "id": "ZqEufIumNWnR",
        "colab_type": "code",
        "colab": {
          "base_uri": "https://localhost:8080/",
          "height": 72
        },
        "outputId": "af43702a-b4b2-41d8-895c-cca546148d4f"
      },
      "cell_type": "code",
      "source": [
        "import glob\n",
        "from random import shuffle\n",
        "import numpy as np\n",
        "import tensorflow as tf\n",
        "import tensorflow_hub as hub\n",
        "from tensorflow.keras import layers\n",
        "import matplotlib.pyplot as plt\n",
        "from tensorflow.keras.models import Sequential\n",
        "from tensorflow.keras.layers import Conv2D, MaxPooling2D\n",
        "from tensorflow.keras.layers import Activation, Dropout, Flatten, Dense\n",
        "from tensorflow.keras.applications.mobilenet import preprocess_input\n",
        "from tensorflow.keras.preprocessing.image import ImageDataGenerator, load_img, img_to_array, array_to_img\n",
        "from tensorflow.keras import optimizers\n",
        "%matplotlib inline"
      ],
      "execution_count": 2,
      "outputs": [
        {
          "output_type": "stream",
          "text": [
            "WARNING: Logging before flag parsing goes to stderr.\n",
            "W0417 05:08:47.635684 140514966501248 __init__.py:56] Some hub symbols are not available because TensorFlow version is less than 1.14\n"
          ],
          "name": "stderr"
        }
      ]
    },
    {
      "metadata": {
        "id": "zcezlg68Nm_k",
        "colab_type": "text"
      },
      "cell_type": "markdown",
      "source": [
        "# Data Preparation"
      ]
    },
    {
      "metadata": {
        "id": "fng3AlroN742",
        "colab_type": "code",
        "colab": {}
      },
      "cell_type": "code",
      "source": [
        "def getLabel(filePaths):\n",
        "\tlabels = []\n",
        "\tfor img in filePaths:\n",
        "\t\tif 'Healthy' in img:\n",
        "\t\t\tlabels.append(0)\n",
        "\t\telif 'defects' in img:\n",
        "\t\t\tlabels.append(1)\n",
        "\n",
        "\tdataZip = list(zip(filePaths, labels))\n",
        "\tshuffle(dataZip)\n",
        "\tfilePaths, labels = zip(*dataZip)\n",
        "\treturn filePaths, labels\n",
        "\n",
        "\n",
        "def split_trainTest(imgsAll, labelAll, splitRatio = 0.20):\n",
        "\tdataZip = list(zip(imgsAll, labelAll))\n",
        "\tshuffle(dataZip)\n",
        "\timgsAll, labelAll = zip(*dataZip)\n",
        "\tsplitPoint = int(len(imgsAll)*splitRatio)\n",
        "\n",
        "\ttrainImgs = imgsAll[:int(len(imgsAll) - splitPoint)]\n",
        "\ttrainLabel = labelAll[:int(len(imgsAll) - splitPoint)]\n",
        "\ttestImgs = imgsAll[int(len(imgsAll)-splitPoint):]\n",
        "\ttestLabel = labelAll[int(len(imgsAll)-splitPoint):]\n",
        "\n",
        "\treturn trainImgs, testImgs, trainLabel, testLabel\n",
        "\n",
        "images, labels = getLabel(glob.glob('/content/JBMClassification/*/*.jpg'))\n",
        "# split the images into train and test sets.\n",
        "X_train, X_test, y_train, y_test = split_trainTest(images, labels,  splitRatio=0.25)"
      ],
      "execution_count": 0,
      "outputs": []
    },
    {
      "metadata": {
        "id": "Ke9mHiPWNZ2V",
        "colab_type": "code",
        "outputId": "0395ff3d-7068-4319-f0a6-2b8dfb18c6b0",
        "colab": {
          "base_uri": "https://localhost:8080/",
          "height": 52
        }
      },
      "cell_type": "code",
      "source": [
        "display(print(f'SHape of training dataset {len(X_train)} and shape of validation set is {len(X_test)}'))\n",
        "\n",
        "IMAGE_SIZE = (224, 224)\n",
        "\n",
        "train_imgs = [img_to_array(load_img(img, target_size=IMAGE_SIZE)) for img in X_train]\n",
        "train_imgs = np.array(train_imgs)\n",
        "train_labels = list(y_train)\n",
        "validation_imgs = [img_to_array(load_img(img, target_size=IMAGE_SIZE)) for img in X_test]\n",
        "validation_imgs = np.array(validation_imgs)\n",
        "validation_labels = list(y_test)"
      ],
      "execution_count": 4,
      "outputs": [
        {
          "output_type": "stream",
          "text": [
            "SHape of training dataset 188 and shape of validation set is 62\n"
          ],
          "name": "stdout"
        },
        {
          "output_type": "display_data",
          "data": {
            "text/plain": [
              "None"
            ]
          },
          "metadata": {
            "tags": []
          }
        }
      ]
    },
    {
      "metadata": {
        "id": "BlM9U3sGOnWF",
        "colab_type": "code",
        "outputId": "0d927e42-3584-4ad3-f018-30aeb6126436",
        "colab": {
          "base_uri": "https://localhost:8080/",
          "height": 35
        }
      },
      "cell_type": "code",
      "source": [
        "# Scale the images as Deep learning models tend to work good with smaller input\n",
        "\n",
        "print('Train dataset shape:', train_imgs.shape, \n",
        "      '\\tValidation dataset shape:', validation_imgs.shape)\n",
        "train_imgs_scaled = train_imgs.astype('float32')\n",
        "validation_imgs_scaled  = validation_imgs.astype('float32')\n",
        "train_imgs_scaled /= 255\n",
        "validation_imgs_scaled /= 255"
      ],
      "execution_count": 5,
      "outputs": [
        {
          "output_type": "stream",
          "text": [
            "Train dataset shape: (188, 224, 224, 3) \tValidation dataset shape: (62, 224, 224, 3)\n"
          ],
          "name": "stdout"
        }
      ]
    },
    {
      "metadata": {
        "id": "62kONWl-N2LG",
        "colab_type": "text"
      },
      "cell_type": "markdown",
      "source": [
        "### Intialization\n",
        "\n",
        "\n",
        "\n"
      ]
    },
    {
      "metadata": {
        "id": "3n5VayXtOXf4",
        "colab_type": "code",
        "colab": {}
      },
      "cell_type": "code",
      "source": [
        "batch_size = 32\n",
        "num_classes = 2\n",
        "epochs = 30\n",
        "input_shape = (224, 224, 3)\n",
        "img_width, img_height = 224, 224"
      ],
      "execution_count": 0,
      "outputs": []
    },
    {
      "metadata": {
        "id": "kz3bFj6jOecq",
        "colab_type": "text"
      },
      "cell_type": "markdown",
      "source": [
        "### Image Augmentation"
      ]
    },
    {
      "metadata": {
        "id": "wky4ukegOYeC",
        "colab_type": "code",
        "colab": {}
      },
      "cell_type": "code",
      "source": [
        "# train_datagen = ImageDataGenerator(rescale=1./255, zoom_range=0.3, rotation_range=50,\n",
        "#                                    width_shift_range=0.2, height_shift_range=0.2, shear_range=0.2, \n",
        "#                                    horizontal_flip=True, fill_mode='nearest')\n",
        "\n",
        "train_datagen = ImageDataGenerator(rescale=1./255, shear_range=0.2, zoom_range=0.2, horizontal_flip=True)\n",
        "\n",
        "# this is the augmentation configuration we will use for testing:\n",
        "# only rescaling\n",
        "val_datagen = ImageDataGenerator(rescale=1./255)\n",
        "\n",
        "train_generator = train_datagen.flow(train_imgs_scaled, train_labels, batch_size=batch_size)\n",
        "val_generator = val_datagen.flow(validation_imgs_scaled, validation_labels, batch_size=batch_size//2)"
      ],
      "execution_count": 0,
      "outputs": []
    },
    {
      "metadata": {
        "id": "f6ecWaPYP7ta",
        "colab_type": "text"
      },
      "cell_type": "markdown",
      "source": [
        "# Model importing and setting layers to non trainable"
      ]
    },
    {
      "metadata": {
        "id": "_VsX6rUBOhr1",
        "colab_type": "code",
        "colab": {
          "base_uri": "https://localhost:8080/",
          "height": 193
        },
        "outputId": "9290a898-ece8-4224-8190-003f6c44a412"
      },
      "cell_type": "code",
      "source": [
        "from keras.models import Model\n",
        "import keras\n",
        "from keras.applications.inception_v3 import InceptionV3\n",
        "\n",
        "inception = InceptionV3(weights='imagenet', include_top=False, \n",
        "                             input_shape=(224, 224, 3))\n",
        "\n",
        "output = inception.layers[-1].output\n",
        "output = keras.layers.Flatten()(output)\n",
        "incept_model = Model(inception.input, output)\n",
        "\n",
        "incept_model.trainable = False\n",
        "for layer in incept_model.layers:\n",
        "    layer.trainable = False\n",
        "    \n",
        "# import pandas as pd\n",
        "# pd.set_option('max_colwidth', -1)\n",
        "# layers = [(layer, layer.name, layer.trainable) for layer in incept_model.layers]\n",
        "# display(pd.DataFrame(layers, columns=['Layer Type', 'Layer Name', 'Layer Trainable']))"
      ],
      "execution_count": 8,
      "outputs": [
        {
          "output_type": "stream",
          "text": [
            "WARNING:tensorflow:From /usr/local/lib/python3.6/dist-packages/tensorflow/python/framework/op_def_library.py:263: colocate_with (from tensorflow.python.framework.ops) is deprecated and will be removed in a future version.\n",
            "Instructions for updating:\n",
            "Colocations handled automatically by placer.\n"
          ],
          "name": "stdout"
        },
        {
          "output_type": "stream",
          "text": [
            "Using TensorFlow backend.\n",
            "W0417 05:09:42.491044 140514966501248 deprecation.py:323] From /usr/local/lib/python3.6/dist-packages/tensorflow/python/framework/op_def_library.py:263: colocate_with (from tensorflow.python.framework.ops) is deprecated and will be removed in a future version.\n",
            "Instructions for updating:\n",
            "Colocations handled automatically by placer.\n"
          ],
          "name": "stderr"
        },
        {
          "output_type": "stream",
          "text": [
            "Downloading data from https://github.com/fchollet/deep-learning-models/releases/download/v0.5/inception_v3_weights_tf_dim_ordering_tf_kernels_notop.h5\n",
            "87916544/87910968 [==============================] - 3s 0us/step\n"
          ],
          "name": "stdout"
        }
      ]
    },
    {
      "metadata": {
        "id": "rrvTuWcKQDP4",
        "colab_type": "text"
      },
      "cell_type": "markdown",
      "source": [
        "Getting bottle neck features "
      ]
    },
    {
      "metadata": {
        "id": "3F7DNWORPZCp",
        "colab_type": "code",
        "colab": {}
      },
      "cell_type": "code",
      "source": [
        "def get_bottleneck_features(model, input_imgs):\n",
        "    features = model.predict(input_imgs, verbose=0)\n",
        "    return features\n",
        "    \n",
        "train_features_vgg = get_bottleneck_features(incept_model, train_imgs_scaled)\n",
        "validation_features_vgg = get_bottleneck_features(incept_model, validation_imgs_scaled)\n",
        "\n",
        "print('Train Bottleneck Features:', train_features_vgg.shape, \n",
        "      '\\tValidation Bottleneck Features:', validation_features_vgg.shape)"
      ],
      "execution_count": 0,
      "outputs": []
    },
    {
      "metadata": {
        "id": "C-sOXDMmQHi5",
        "colab_type": "text"
      },
      "cell_type": "markdown",
      "source": [
        "### Model "
      ]
    },
    {
      "metadata": {
        "id": "b3OGIC_g3nsK",
        "colab_type": "code",
        "colab": {}
      },
      "cell_type": "code",
      "source": [
        "optimizers.RMSprop?"
      ],
      "execution_count": 0,
      "outputs": []
    },
    {
      "metadata": {
        "id": "8VvZKNz6Plx4",
        "colab_type": "code",
        "colab": {}
      },
      "cell_type": "code",
      "source": [
        "from keras.layers import Conv2D, MaxPooling2D, Flatten, Dense, Dropout, InputLayer\n",
        "from keras.models import Sequential\n",
        "from keras import optimizers\n",
        "\n",
        "input_shape = incept_model.output_shape[1]\n",
        "\n",
        "model = Sequential()\n",
        "model.add(InputLayer(input_shape=(input_shape,)))\n",
        "model.add(Dense(64, activation='relu', input_dim=input_shape))\n",
        "model.add(Dropout(0.3))\n",
        "model.add(Dense(64, activation='relu'))\n",
        "model.add(Dropout(0.3))\n",
        "model.add(Dense(32, activation='relu'))\n",
        "model.add(Dropout(0.3))\n",
        "model.add(Dense(1, activation='sigmoid'))\n",
        "\n",
        "model.compile(loss='binary_crossentropy',\n",
        "              optimizer=optimizers.RMSprop(lr=1e-5),\n",
        "              metrics=['accuracy'])\n",
        "\n",
        "model.summary()"
      ],
      "execution_count": 0,
      "outputs": []
    },
    {
      "metadata": {
        "id": "ixCWLIijQVFS",
        "colab_type": "text"
      },
      "cell_type": "markdown",
      "source": [
        "## Run our model"
      ]
    },
    {
      "metadata": {
        "id": "FFyOpCm8P5FM",
        "colab_type": "code",
        "colab": {}
      },
      "cell_type": "code",
      "source": [
        "history = model.fit(x=train_features_vgg, y=train_labels,\n",
        "                    validation_data=(validation_features_vgg, validation_labels),\n",
        "                    batch_size=batch_size,\n",
        "                    epochs=100,\n",
        "                    verbose=1)"
      ],
      "execution_count": 0,
      "outputs": []
    },
    {
      "metadata": {
        "id": "gcmgtFVKQ2Ld",
        "colab_type": "text"
      },
      "cell_type": "markdown",
      "source": [
        "# Plot validation and training accuracy"
      ]
    },
    {
      "metadata": {
        "id": "L95SAiC9bS_N",
        "colab_type": "code",
        "colab": {}
      },
      "cell_type": "code",
      "source": [
        "f, (ax1, ax2) = plt.subplots(1, 2, figsize=(12, 4))\n",
        "t = f.suptitle('Basic CNN Performance', fontsize=12)\n",
        "f.subplots_adjust(top=0.85, wspace=0.3)\n",
        "\n",
        "epoch_list = list(range(1,101))\n",
        "ax1.plot(epoch_list, history.history['acc'], label='Train Accuracy')\n",
        "ax1.plot(epoch_list, history.history['val_acc'], label='Validation Accuracy')\n",
        "ax1.set_xticks(np.arange(0, 101, 5))\n",
        "ax1.set_ylabel('Accuracy Value')\n",
        "ax1.set_xlabel('Epoch')\n",
        "ax1.set_title('Accuracy')\n",
        "l1 = ax1.legend(loc=\"best\")\n",
        "\n",
        "ax2.plot(epoch_list, history.history['loss'], label='Train Loss')\n",
        "ax2.plot(epoch_list, history.history['val_loss'], label='Validation Loss')\n",
        "ax2.set_xticks(np.arange(0, 101, 5))\n",
        "ax2.set_ylabel('Loss Value')\n",
        "ax2.set_xlabel('Epoch')\n",
        "ax2.set_title('Loss')\n",
        "l2 = ax2.legend(loc=\"best\")"
      ],
      "execution_count": 0,
      "outputs": []
    },
    {
      "metadata": {
        "id": "-KvbJeI8ZiFy",
        "colab_type": "code",
        "colab": {}
      },
      "cell_type": "code",
      "source": [
        "model.save('model_v7.h5')\n",
        "f.savefig('model_v7.png')\n"
      ],
      "execution_count": 0,
      "outputs": []
    },
    {
      "metadata": {
        "id": "jjlTHFDUaaxF",
        "colab_type": "text"
      },
      "cell_type": "markdown",
      "source": [
        "\n",
        "```\n",
        "# from IPython.display import Image\n",
        "# %matplotlib inline\n",
        "from PIL import Image\n",
        "display(Image.open('model_v6.png'))\n",
        "\n",
        "```"
      ]
    },
    {
      "metadata": {
        "id": "I7M7ueZh3enS",
        "colab_type": "text"
      },
      "cell_type": "markdown",
      "source": [
        "# Version numbering"
      ]
    },
    {
      "metadata": {
        "id": "rbQydTMlRxDi",
        "colab_type": "text"
      },
      "cell_type": "markdown",
      "source": [
        "\n",
        "\n",
        "1.   Version number = 1\n",
        ">  Batch size = 32. \n",
        "\n",
        "\n",
        ">  Layer structure  = \n",
        "```\n",
        "model.add(Dense(512, activation='relu', input_dim=input_shape))\n",
        "model.add(Dropout(0.4))\n",
        "model.add(Dense(128, activation='relu'))\n",
        "model.add(Dropout(0.3))\n",
        "model.add(Dense(64, activation='relu'))\n",
        "model.add(Dropout(0.3))\n",
        "```\n",
        "\n",
        "\n",
        "\n",
        "\n",
        "---\n",
        "\n",
        "\n",
        "\n",
        "2.   Version number = 2\n",
        ">  Batch size = 32\n",
        "\n",
        ">  Layer structure  = \n",
        "```\n",
        "model.add(Dense(128, activation='relu', input_dim=input_shape))\n",
        "model.add(Dropout(0.4))\n",
        "model.add(Dense(64, activation='relu'))\n",
        "model.add(Dropout(0.4))\n",
        "model.add(Dense(64, activation='relu'))\n",
        "model.add(Dropout(0.3))\n",
        "```\n",
        "\n",
        "\n",
        "---\n",
        "\n",
        "\n",
        "3.   Version number = 3\n",
        ">  Batch size = 32\n",
        "\n",
        ">  Layer structure  = \n",
        "```\n",
        "model.add(Dense(524, activation='relu', input_dim=input_shape))\n",
        "model.add(Dropout(0.4))\n",
        "model.add(Dense(64, activation='relu'))\n",
        "model.add(Dropout(0.4))\n",
        "model.add(Dense(32, activation='relu'))\n",
        "model.add(Dropout(0.3))\n",
        "```\n",
        "\n",
        "\n",
        "---\n",
        "\n",
        "\n",
        "\n",
        "4.   Version number = 4\n",
        ">  Batch size = 32\n",
        "\n",
        ">  Layer structure  = \n",
        "```\n",
        "model.add(Dense(256, activation='relu', input_dim=input_shape))\n",
        "model.add(Dropout(0.4))\n",
        "model.add(Dense(128, activation='relu'))\n",
        "model.add(Dropout(0.4))\n",
        "model.add(Dense(32, activation='relu'))\n",
        "model.add(Dropout(0.2))\n",
        "```\n",
        "\n",
        "\n",
        "---\n",
        "\n",
        "\n",
        "5.   Version number = 5\n",
        ">  Batch size = 32\n",
        "\n",
        ">  Layer structure  = \n",
        "```\n",
        "model.add(Dense(256, activation='relu', input_dim=input_shape))\n",
        "model.add(Dropout(0.4))\n",
        "model.add(Dense(64, activation='relu'))\n",
        "model.add(Dropout(0.3))\n",
        "model.add(Dense(32, activation='relu'))\n",
        "model.add(Dropout(0.3))\n",
        "```\n",
        "\n",
        "---\n",
        "\n",
        "6.   Version number = 6\n",
        ">  Batch size = 32\n",
        "\n",
        ">  Layer structure  = \n",
        "```\n",
        "model.add(Dense(256, activation='relu', input_dim=input_shape))\n",
        "model.add(Dropout(0.3))\n",
        "model.add(Dense(64, activation='relu'))\n",
        "model.add(Dropout(0.4))\n",
        "model.add(Dense(32, activation='relu'))\n",
        "model.add(Dropout(0.3))\n",
        "```\n",
        "\n",
        "\n",
        "\n",
        "---\n",
        "\n",
        "\n",
        "\n",
        "7.   Version number = 7\n",
        ">  Batch size = 32\n",
        "\n",
        ">  Layer structure  = \n",
        "```\n",
        "model.add(Dense(64, activation='relu', input_dim=input_shape))\n",
        "model.add(Dropout(0.3))\n",
        "model.add(Dense(64, activation='relu'))\n",
        "model.add(Dropout(0.3))\n",
        "model.add(Dense(32, activation='relu'))\n",
        "model.add(Dropout(0.3))\n",
        "```\n",
        "\n",
        "\n",
        "---\n",
        "\n",
        "\n",
        "\n",
        "8.   Version number = 8\n",
        ">  Batch size = 32\n",
        "\n",
        ">  Layer structure  = \n",
        "\n",
        "```\n",
        "model.add(Dense(1024, activation='relu', input_dim=input_shape))\n",
        "model.add(Dropout(0.6))\n",
        "model.add(Dense(512, activation='relu'))\n",
        "model.add(Dropout(0.4))\n",
        "model.add(Dense(32, activation='relu'))\n",
        "model.add(Dropout(0.2))\n",
        "```\n",
        "\n",
        "---\n",
        "\n",
        "\n",
        "9.   Version number = 9\n",
        ">  Batch size = 32\n",
        "\n",
        ">  Layer structure  = \n",
        "\n",
        "```\n",
        "model.add(Dense(1024, activation='relu', input_dim=input_shape))\n",
        "model.add(Dropout(0.6))\n",
        "model.add(Dense(512, activation='relu'))\n",
        "model.add(Dropout(0.6))\n",
        "model.add(Dense(64, activation='relu'))\n",
        "model.add(Dropout(0.2))\n",
        "\n",
        "\n",
        "\n",
        "model.compile(loss='binary_crossentropy',\n",
        "              optimizer=optimizers.RMSprop(lr=1e-4, decay=1e-5),\n",
        "              metrics=['accuracy'])\n",
        "\n",
        "```\n",
        "\n",
        "\n",
        "10. V11\n",
        "\n",
        "```\n",
        "model.add(Dense(64, activation='relu', input_dim=input_shape))\n",
        "model.add(Dropout(0.3))\n",
        "model.add(Dense(32, activation='relu'))\n",
        "model.add(Dropout(0.3))\n",
        "model.add(Dense(16, activation='relu'))\n",
        "model.add(Dropout(0.3))\n",
        "model.add(Dense(1, activation='sigmoid'))\n",
        "```\n",
        "\n",
        "\n",
        "11. V-12\n",
        "\n",
        "```\n",
        "model.add(Dense(64, activation='relu', input_dim=input_shape))\n",
        "model.add(Dropout(0.3))\n",
        "model.add(Dense(64, activation='relu'))\n",
        "model.add(Dropout(0.2))\n",
        "model.add(Dense(32, activation='relu'))\n",
        "model.add(Dropout(0.2))\n",
        "```\n",
        "\n",
        "12. v-13\n",
        "\n",
        "```\n",
        "model.add(Dense(64, activation='relu', input_dim=input_shape))\n",
        "model.add(Dropout(0.3))\n",
        "model.add(Dense(64, activation='relu'))\n",
        "model.add(Dropout(0.2))\n",
        "model.add(Dense(32, activation='relu'))\n",
        "model.add(Dropout(0.2))\n",
        "model.add(Dense(32, activation='relu'))\n",
        "model.add(Dropout(0.2))\n",
        "```\n",
        "\n",
        "\n",
        "13. v-14\n",
        "\n",
        "```\n",
        "model.add(Dense(64, activation='relu', input_dim=input_shape))\n",
        "model.add(Dropout(0.3))\n",
        "model.add(Dense(64, activation='relu'))\n",
        "model.add(Dropout(0.3))\n",
        "model.add(Dense(16, activation='relu'))\n",
        "model.add(Dropout(0.3))\n",
        "```\n",
        "\n",
        "14. v-15\n",
        "\n",
        "```\n",
        "model.add(Dense(1024, activation='relu', input_dim=input_shape))\n",
        "model.add(Dropout(0.5))\n",
        "model.add(Dense(64, activation='relu'))\n",
        "model.add(Dropout(0.4))\n",
        "model.add(Dense(32, activation='relu'))\n",
        "model.add(Dropout(0.3))\n",
        "```"
      ]
    },
    {
      "metadata": {
        "id": "8wf0lokjVFky",
        "colab_type": "code",
        "colab": {}
      },
      "cell_type": "code",
      "source": [
        ""
      ],
      "execution_count": 0,
      "outputs": []
    }
  ]
}